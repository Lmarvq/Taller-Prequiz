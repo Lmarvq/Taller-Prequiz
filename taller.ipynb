{
 "cells": [
  {
   "cell_type": "code",
   "execution_count": 1,
   "metadata": {},
   "outputs": [],
   "source": [
    "import numpy as np"
   ]
  },
  {
   "cell_type": "code",
   "execution_count": 5,
   "metadata": {},
   "outputs": [
    {
     "name": "stdout",
     "output_type": "stream",
     "text": [
      "1200000\n",
      "(10, 1200, 10, 10)\n"
     ]
    }
   ],
   "source": [
    "a = np.random.random([10,1200,10,10])\n",
    "print(a.size)\n",
    "print(a.shape)"
   ]
  },
  {
   "cell_type": "code",
   "execution_count": 13,
   "metadata": {},
   "outputs": [
    {
     "data": {
      "text/plain": [
       "(100, 1200, 10)"
      ]
     },
     "execution_count": 13,
     "metadata": {},
     "output_type": "execute_result"
    }
   ],
   "source": [
    "b = a.copy()\n",
    "c = np.reshape(b, [100,1200,10])\n",
    "c.shape\n"
   ]
  },
  {
   "cell_type": "code",
   "execution_count": 20,
   "metadata": {},
   "outputs": [
    {
     "name": "stdout",
     "output_type": "stream",
     "text": [
      "La dimensión de la matriz c es de:\n",
      " 100 canales.\n",
      " 1200 puntos.\n",
      " 10 épocas.\n",
      "Tiene un tamaño de 1200000\n",
      "La matriz es un arreglo de tipo float64 \n"
     ]
    }
   ],
   "source": [
    "#Atributos matriz 3D\n",
    "\n",
    "print(f\"La dimensión de la matriz c es de:\\n {c.shape[0]} canales.\\n {c.shape[1]} puntos.\\n {c.shape[2]} épocas.\\nTiene un tamaño de {c.size}\\nLa matriz es un arreglo de tipo {c.dtype} \")"
   ]
  }
 ],
 "metadata": {
  "kernelspec": {
   "display_name": "Python 3",
   "language": "python",
   "name": "python3"
  },
  "language_info": {
   "codemirror_mode": {
    "name": "ipython",
    "version": 3
   },
   "file_extension": ".py",
   "mimetype": "text/x-python",
   "name": "python",
   "nbconvert_exporter": "python",
   "pygments_lexer": "ipython3",
   "version": "3.11.9"
  }
 },
 "nbformat": 4,
 "nbformat_minor": 2
}
